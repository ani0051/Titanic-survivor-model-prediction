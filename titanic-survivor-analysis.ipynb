{
 "cells": [
  {
   "cell_type": "code",
   "execution_count": 1,
   "id": "cc7f0267",
   "metadata": {
    "_cell_guid": "b1076dfc-b9ad-4769-8c92-a6c4dae69d19",
    "_uuid": "8f2839f25d086af736a60e9eeb907d3b93b6e0e5",
    "execution": {
     "iopub.execute_input": "2025-02-22T20:21:10.820197Z",
     "iopub.status.busy": "2025-02-22T20:21:10.819825Z",
     "iopub.status.idle": "2025-02-22T20:21:11.684726Z",
     "shell.execute_reply": "2025-02-22T20:21:11.683637Z"
    },
    "papermill": {
     "duration": 0.880064,
     "end_time": "2025-02-22T20:21:11.686290",
     "exception": false,
     "start_time": "2025-02-22T20:21:10.806226",
     "status": "completed"
    },
    "tags": []
   },
   "outputs": [
    {
     "name": "stdout",
     "output_type": "stream",
     "text": [
      "/kaggle/input/test-file/tested.csv\n"
     ]
    }
   ],
   "source": [
    "# This Python 3 environment comes with many helpful analytics libraries installed\n",
    "# It is defined by the kaggle/python Docker image: https://github.com/kaggle/docker-python\n",
    "# For example, here's several helpful packages to load\n",
    "\n",
    "import numpy as np # linear algebra\n",
    "import pandas as pd # data processing, CSV file I/O (e.g. pd.read_csv)\n",
    "\n",
    "# Input data files are available in the read-only \"../input/\" directory\n",
    "# For example, running this (by clicking run or pressing Shift+Enter) will list all files under the input directory\n",
    "\n",
    "import os\n",
    "for dirname, _, filenames in os.walk('/kaggle/input'):\n",
    "    for filename in filenames:\n",
    "        print(os.path.join(dirname, filename))\n",
    "\n",
    "# You can write up to 20GB to the current directory (/kaggle/working/) that gets preserved as output when you create a version using \"Save & Run All\" \n",
    "# You can also write temporary files to /kaggle/temp/, but they won't be saved outside of the current session"
   ]
  },
  {
   "cell_type": "code",
   "execution_count": 2,
   "id": "b5ac8ade",
   "metadata": {
    "execution": {
     "iopub.execute_input": "2025-02-22T20:21:11.711451Z",
     "iopub.status.busy": "2025-02-22T20:21:11.710896Z",
     "iopub.status.idle": "2025-02-22T20:21:13.310225Z",
     "shell.execute_reply": "2025-02-22T20:21:13.309037Z"
    },
    "papermill": {
     "duration": 1.613925,
     "end_time": "2025-02-22T20:21:13.312215",
     "exception": false,
     "start_time": "2025-02-22T20:21:11.698290",
     "status": "completed"
    },
    "tags": []
   },
   "outputs": [],
   "source": [
    "import pandas as pd\n",
    "import numpy as np\n",
    "import seaborn as sb\n",
    "import matplotlib.pyplot as plt\n",
    "\n",
    "import math\n"
   ]
  },
  {
   "cell_type": "markdown",
   "id": "ad9f8ca2",
   "metadata": {
    "papermill": {
     "duration": 0.011214,
     "end_time": "2025-02-22T20:21:13.335247",
     "exception": false,
     "start_time": "2025-02-22T20:21:13.324033",
     "status": "completed"
    },
    "tags": []
   },
   "source": [
    "# *Cleaning data :*"
   ]
  },
  {
   "cell_type": "code",
   "execution_count": 3,
   "id": "86fc86d3",
   "metadata": {
    "execution": {
     "iopub.execute_input": "2025-02-22T20:21:13.359617Z",
     "iopub.status.busy": "2025-02-22T20:21:13.359060Z",
     "iopub.status.idle": "2025-02-22T20:21:13.402040Z",
     "shell.execute_reply": "2025-02-22T20:21:13.400911Z"
    },
    "papermill": {
     "duration": 0.057076,
     "end_time": "2025-02-22T20:21:13.403750",
     "exception": false,
     "start_time": "2025-02-22T20:21:13.346674",
     "status": "completed"
    },
    "tags": []
   },
   "outputs": [
    {
     "data": {
      "text/html": [
       "<div>\n",
       "<style scoped>\n",
       "    .dataframe tbody tr th:only-of-type {\n",
       "        vertical-align: middle;\n",
       "    }\n",
       "\n",
       "    .dataframe tbody tr th {\n",
       "        vertical-align: top;\n",
       "    }\n",
       "\n",
       "    .dataframe thead th {\n",
       "        text-align: right;\n",
       "    }\n",
       "</style>\n",
       "<table border=\"1\" class=\"dataframe\">\n",
       "  <thead>\n",
       "    <tr style=\"text-align: right;\">\n",
       "      <th></th>\n",
       "      <th>PassengerId</th>\n",
       "      <th>Survived</th>\n",
       "      <th>Pclass</th>\n",
       "      <th>Name</th>\n",
       "      <th>Sex</th>\n",
       "      <th>Age</th>\n",
       "      <th>SibSp</th>\n",
       "      <th>Parch</th>\n",
       "      <th>Ticket</th>\n",
       "      <th>Fare</th>\n",
       "      <th>Cabin</th>\n",
       "      <th>Embarked</th>\n",
       "    </tr>\n",
       "  </thead>\n",
       "  <tbody>\n",
       "    <tr>\n",
       "      <th>0</th>\n",
       "      <td>892</td>\n",
       "      <td>0</td>\n",
       "      <td>3</td>\n",
       "      <td>Kelly, Mr. James</td>\n",
       "      <td>male</td>\n",
       "      <td>34.5</td>\n",
       "      <td>0</td>\n",
       "      <td>0</td>\n",
       "      <td>330911</td>\n",
       "      <td>7.8292</td>\n",
       "      <td>NaN</td>\n",
       "      <td>Q</td>\n",
       "    </tr>\n",
       "    <tr>\n",
       "      <th>1</th>\n",
       "      <td>893</td>\n",
       "      <td>1</td>\n",
       "      <td>3</td>\n",
       "      <td>Wilkes, Mrs. James (Ellen Needs)</td>\n",
       "      <td>female</td>\n",
       "      <td>47.0</td>\n",
       "      <td>1</td>\n",
       "      <td>0</td>\n",
       "      <td>363272</td>\n",
       "      <td>7.0000</td>\n",
       "      <td>NaN</td>\n",
       "      <td>S</td>\n",
       "    </tr>\n",
       "    <tr>\n",
       "      <th>2</th>\n",
       "      <td>894</td>\n",
       "      <td>0</td>\n",
       "      <td>2</td>\n",
       "      <td>Myles, Mr. Thomas Francis</td>\n",
       "      <td>male</td>\n",
       "      <td>62.0</td>\n",
       "      <td>0</td>\n",
       "      <td>0</td>\n",
       "      <td>240276</td>\n",
       "      <td>9.6875</td>\n",
       "      <td>NaN</td>\n",
       "      <td>Q</td>\n",
       "    </tr>\n",
       "    <tr>\n",
       "      <th>3</th>\n",
       "      <td>895</td>\n",
       "      <td>0</td>\n",
       "      <td>3</td>\n",
       "      <td>Wirz, Mr. Albert</td>\n",
       "      <td>male</td>\n",
       "      <td>27.0</td>\n",
       "      <td>0</td>\n",
       "      <td>0</td>\n",
       "      <td>315154</td>\n",
       "      <td>8.6625</td>\n",
       "      <td>NaN</td>\n",
       "      <td>S</td>\n",
       "    </tr>\n",
       "    <tr>\n",
       "      <th>4</th>\n",
       "      <td>896</td>\n",
       "      <td>1</td>\n",
       "      <td>3</td>\n",
       "      <td>Hirvonen, Mrs. Alexander (Helga E Lindqvist)</td>\n",
       "      <td>female</td>\n",
       "      <td>22.0</td>\n",
       "      <td>1</td>\n",
       "      <td>1</td>\n",
       "      <td>3101298</td>\n",
       "      <td>12.2875</td>\n",
       "      <td>NaN</td>\n",
       "      <td>S</td>\n",
       "    </tr>\n",
       "    <tr>\n",
       "      <th>5</th>\n",
       "      <td>897</td>\n",
       "      <td>0</td>\n",
       "      <td>3</td>\n",
       "      <td>Svensson, Mr. Johan Cervin</td>\n",
       "      <td>male</td>\n",
       "      <td>14.0</td>\n",
       "      <td>0</td>\n",
       "      <td>0</td>\n",
       "      <td>7538</td>\n",
       "      <td>9.2250</td>\n",
       "      <td>NaN</td>\n",
       "      <td>S</td>\n",
       "    </tr>\n",
       "    <tr>\n",
       "      <th>6</th>\n",
       "      <td>898</td>\n",
       "      <td>1</td>\n",
       "      <td>3</td>\n",
       "      <td>Connolly, Miss. Kate</td>\n",
       "      <td>female</td>\n",
       "      <td>30.0</td>\n",
       "      <td>0</td>\n",
       "      <td>0</td>\n",
       "      <td>330972</td>\n",
       "      <td>7.6292</td>\n",
       "      <td>NaN</td>\n",
       "      <td>Q</td>\n",
       "    </tr>\n",
       "    <tr>\n",
       "      <th>7</th>\n",
       "      <td>899</td>\n",
       "      <td>0</td>\n",
       "      <td>2</td>\n",
       "      <td>Caldwell, Mr. Albert Francis</td>\n",
       "      <td>male</td>\n",
       "      <td>26.0</td>\n",
       "      <td>1</td>\n",
       "      <td>1</td>\n",
       "      <td>248738</td>\n",
       "      <td>29.0000</td>\n",
       "      <td>NaN</td>\n",
       "      <td>S</td>\n",
       "    </tr>\n",
       "    <tr>\n",
       "      <th>8</th>\n",
       "      <td>900</td>\n",
       "      <td>1</td>\n",
       "      <td>3</td>\n",
       "      <td>Abrahim, Mrs. Joseph (Sophie Halaut Easu)</td>\n",
       "      <td>female</td>\n",
       "      <td>18.0</td>\n",
       "      <td>0</td>\n",
       "      <td>0</td>\n",
       "      <td>2657</td>\n",
       "      <td>7.2292</td>\n",
       "      <td>NaN</td>\n",
       "      <td>C</td>\n",
       "    </tr>\n",
       "    <tr>\n",
       "      <th>9</th>\n",
       "      <td>901</td>\n",
       "      <td>0</td>\n",
       "      <td>3</td>\n",
       "      <td>Davies, Mr. John Samuel</td>\n",
       "      <td>male</td>\n",
       "      <td>21.0</td>\n",
       "      <td>2</td>\n",
       "      <td>0</td>\n",
       "      <td>A/4 48871</td>\n",
       "      <td>24.1500</td>\n",
       "      <td>NaN</td>\n",
       "      <td>S</td>\n",
       "    </tr>\n",
       "  </tbody>\n",
       "</table>\n",
       "</div>"
      ],
      "text/plain": [
       "   PassengerId  Survived  Pclass  \\\n",
       "0          892         0       3   \n",
       "1          893         1       3   \n",
       "2          894         0       2   \n",
       "3          895         0       3   \n",
       "4          896         1       3   \n",
       "5          897         0       3   \n",
       "6          898         1       3   \n",
       "7          899         0       2   \n",
       "8          900         1       3   \n",
       "9          901         0       3   \n",
       "\n",
       "                                           Name     Sex   Age  SibSp  Parch  \\\n",
       "0                              Kelly, Mr. James    male  34.5      0      0   \n",
       "1              Wilkes, Mrs. James (Ellen Needs)  female  47.0      1      0   \n",
       "2                     Myles, Mr. Thomas Francis    male  62.0      0      0   \n",
       "3                              Wirz, Mr. Albert    male  27.0      0      0   \n",
       "4  Hirvonen, Mrs. Alexander (Helga E Lindqvist)  female  22.0      1      1   \n",
       "5                    Svensson, Mr. Johan Cervin    male  14.0      0      0   \n",
       "6                          Connolly, Miss. Kate  female  30.0      0      0   \n",
       "7                  Caldwell, Mr. Albert Francis    male  26.0      1      1   \n",
       "8     Abrahim, Mrs. Joseph (Sophie Halaut Easu)  female  18.0      0      0   \n",
       "9                       Davies, Mr. John Samuel    male  21.0      2      0   \n",
       "\n",
       "      Ticket     Fare Cabin Embarked  \n",
       "0     330911   7.8292   NaN        Q  \n",
       "1     363272   7.0000   NaN        S  \n",
       "2     240276   9.6875   NaN        Q  \n",
       "3     315154   8.6625   NaN        S  \n",
       "4    3101298  12.2875   NaN        S  \n",
       "5       7538   9.2250   NaN        S  \n",
       "6     330972   7.6292   NaN        Q  \n",
       "7     248738  29.0000   NaN        S  \n",
       "8       2657   7.2292   NaN        C  \n",
       "9  A/4 48871  24.1500   NaN        S  "
      ]
     },
     "execution_count": 3,
     "metadata": {},
     "output_type": "execute_result"
    }
   ],
   "source": [
    "titanic_dataset=pd.read_csv(\"/kaggle/input/test-file/tested.csv\")\n",
    "titanic_dataset.head(10)"
   ]
  },
  {
   "cell_type": "code",
   "execution_count": 4,
   "id": "56246928",
   "metadata": {
    "execution": {
     "iopub.execute_input": "2025-02-22T20:21:13.429255Z",
     "iopub.status.busy": "2025-02-22T20:21:13.428892Z",
     "iopub.status.idle": "2025-02-22T20:21:13.433351Z",
     "shell.execute_reply": "2025-02-22T20:21:13.432244Z"
    },
    "papermill": {
     "duration": 0.019357,
     "end_time": "2025-02-22T20:21:13.435136",
     "exception": false,
     "start_time": "2025-02-22T20:21:13.415779",
     "status": "completed"
    },
    "tags": []
   },
   "outputs": [
    {
     "name": "stdout",
     "output_type": "stream",
     "text": [
      "# of passengers in original data: 418\n"
     ]
    }
   ],
   "source": [
    "print(\"# of passengers in original data: \" + str(len(titanic_dataset.index)))"
   ]
  },
  {
   "cell_type": "markdown",
   "id": "509b4779",
   "metadata": {
    "papermill": {
     "duration": 0.011932,
     "end_time": "2025-02-22T20:21:13.459086",
     "exception": false,
     "start_time": "2025-02-22T20:21:13.447154",
     "status": "completed"
    },
    "tags": []
   },
   "source": [
    "# Analysing data "
   ]
  },
  {
   "cell_type": "markdown",
   "id": "ebb90200",
   "metadata": {
    "papermill": {
     "duration": 0.011705,
     "end_time": "2025-02-22T20:21:13.482844",
     "exception": false,
     "start_time": "2025-02-22T20:21:13.471139",
     "status": "completed"
    },
    "tags": []
   },
   "source": [
    "* counting the survivors"
   ]
  },
  {
   "cell_type": "code",
   "execution_count": 5,
   "id": "3d1d853e",
   "metadata": {
    "execution": {
     "iopub.execute_input": "2025-02-22T20:21:13.508334Z",
     "iopub.status.busy": "2025-02-22T20:21:13.507997Z",
     "iopub.status.idle": "2025-02-22T20:21:13.743301Z",
     "shell.execute_reply": "2025-02-22T20:21:13.742316Z"
    },
    "papermill": {
     "duration": 0.249649,
     "end_time": "2025-02-22T20:21:13.744922",
     "exception": false,
     "start_time": "2025-02-22T20:21:13.495273",
     "status": "completed"
    },
    "tags": []
   },
   "outputs": [
    {
     "data": {
      "text/plain": [
       "<Axes: xlabel='Survived', ylabel='count'>"
      ]
     },
     "execution_count": 5,
     "metadata": {},
     "output_type": "execute_result"
    },
    {
     "data": {
      "image/png": "[encoded data removed]",
      "text/plain": [
       "<Figure size 640x480 with 1 Axes>"
      ]
     },
     "metadata": {},
     "output_type": "display_data"
    }
   ],
   "source": [
    "sb.countplot(x=\"Survived\",data=titanic_dataset)"
   ]
  },
  {
   "cell_type": "markdown",
   "id": "0dc82409",
   "metadata": {
    "papermill": {
     "duration": 0.011795,
     "end_time": "2025-02-22T20:21:13.769071",
     "exception": false,
     "start_time": "2025-02-22T20:21:13.757276",
     "status": "completed"
    },
    "tags": []
   },
   "source": [
    "* counting survivors based on gender (female and male )"
   ]
  },
  {
   "cell_type": "code",
   "execution_count": 6,
   "id": "089ed9b0",
   "metadata": {
    "execution": {
     "iopub.execute_input": "2025-02-22T20:21:13.794423Z",
     "iopub.status.busy": "2025-02-22T20:21:13.794055Z",
     "iopub.status.idle": "2025-02-22T20:21:13.800878Z",
     "shell.execute_reply": "2025-02-22T20:21:13.799720Z"
    },
    "papermill": {
     "duration": 0.021179,
     "end_time": "2025-02-22T20:21:13.802360",
     "exception": false,
     "start_time": "2025-02-22T20:21:13.781181",
     "status": "completed"
    },
    "tags": []
   },
   "outputs": [
    {
     "name": "stdout",
     "output_type": "stream",
     "text": [
      "PassengerId      0\n",
      "Survived         0\n",
      "Pclass           0\n",
      "Name             0\n",
      "Sex              0\n",
      "Age             86\n",
      "SibSp            0\n",
      "Parch            0\n",
      "Ticket           0\n",
      "Fare             1\n",
      "Cabin          327\n",
      "Embarked         0\n",
      "dtype: int64\n"
     ]
    }
   ],
   "source": [
    "print(titanic_dataset.isnull().sum())"
   ]
  },
  {
   "cell_type": "code",
   "execution_count": 7,
   "id": "2a669395",
   "metadata": {
    "execution": {
     "iopub.execute_input": "2025-02-22T20:21:13.827898Z",
     "iopub.status.busy": "2025-02-22T20:21:13.827527Z",
     "iopub.status.idle": "2025-02-22T20:21:13.998311Z",
     "shell.execute_reply": "2025-02-22T20:21:13.997147Z"
    },
    "papermill": {
     "duration": 0.185488,
     "end_time": "2025-02-22T20:21:14.000041",
     "exception": false,
     "start_time": "2025-02-22T20:21:13.814553",
     "status": "completed"
    },
    "tags": []
   },
   "outputs": [
    {
     "data": {
      "text/plain": [
       "<Axes: xlabel='Survived', ylabel='count'>"
      ]
     },
     "execution_count": 7,
     "metadata": {},
     "output_type": "execute_result"
    },
    {
     "data": {
      "image/png": "[encoded data removed]",
      "text/plain": [
       "<Figure size 640x480 with 1 Axes>"
      ]
     },
     "metadata": {},
     "output_type": "display_data"
    }
   ],
   "source": [
    "sb.countplot(x='Survived',hue='Sex',data=titanic_dataset)"
   ]
  },
  {
   "cell_type": "markdown",
   "id": "12ed6f33",
   "metadata": {
    "papermill": {
     "duration": 0.012276,
     "end_time": "2025-02-22T20:21:14.025216",
     "exception": false,
     "start_time": "2025-02-22T20:21:14.012940",
     "status": "completed"
    },
    "tags": []
   },
   "source": [
    "1. With this we can interpret that females were first helped which resulted in\n",
    "    their survival\n",
    "2. As we don't have real data as of who survived due to which it can be seen as     an error in data "
   ]
  },
  {
   "cell_type": "code",
   "execution_count": 8,
   "id": "37a0ff79",
   "metadata": {
    "execution": {
     "iopub.execute_input": "2025-02-22T20:21:14.051899Z",
     "iopub.status.busy": "2025-02-22T20:21:14.051545Z",
     "iopub.status.idle": "2025-02-22T20:21:14.248793Z",
     "shell.execute_reply": "2025-02-22T20:21:14.247757Z"
    },
    "papermill": {
     "duration": 0.212301,
     "end_time": "2025-02-22T20:21:14.250228",
     "exception": false,
     "start_time": "2025-02-22T20:21:14.037927",
     "status": "completed"
    },
    "tags": []
   },
   "outputs": [
    {
     "data": {
      "text/plain": [
       "([<matplotlib.axis.XTick at 0x784b93dc9e70>,\n",
       "  <matplotlib.axis.XTick at 0x784b93dc9ea0>],\n",
       " [Text(0, 0, 'Did Not Survive'), Text(1, 0, 'Survived')])"
      ]
     },
     "execution_count": 8,
     "metadata": {},
     "output_type": "execute_result"
    },
    {
     "data": {
      "image/png": "[encoded data removed]",
      "text/plain": [
       "<Figure size 640x480 with 1 Axes>"
      ]
     },
     "metadata": {},
     "output_type": "display_data"
    }
   ],
   "source": [
    "sb.countplot(x='Survived',hue='Pclass',data=titanic_dataset)\n",
    "plt.xticks(ticks=[0, 1], labels=[\"Did Not Survive\", \"Survived\"])"
   ]
  },
  {
   "cell_type": "markdown",
   "id": "e2f44a2d",
   "metadata": {
    "papermill": {
     "duration": 0.013263,
     "end_time": "2025-02-22T20:21:14.277261",
     "exception": false,
     "start_time": "2025-02-22T20:21:14.263998",
     "status": "completed"
    },
    "tags": []
   },
   "source": [
    "* Most people who died were from 3rd class.\n",
    "* 1st class passengers had the highest survival rate.\n",
    "* 2nd class survival was in between."
   ]
  },
  {
   "cell_type": "code",
   "execution_count": 9,
   "id": "be0a389b",
   "metadata": {
    "execution": {
     "iopub.execute_input": "2025-02-22T20:21:14.304712Z",
     "iopub.status.busy": "2025-02-22T20:21:14.304308Z",
     "iopub.status.idle": "2025-02-22T20:21:14.542485Z",
     "shell.execute_reply": "2025-02-22T20:21:14.541490Z"
    },
    "papermill": {
     "duration": 0.253625,
     "end_time": "2025-02-22T20:21:14.544163",
     "exception": false,
     "start_time": "2025-02-22T20:21:14.290538",
     "status": "completed"
    },
    "tags": []
   },
   "outputs": [
    {
     "data": {
      "text/plain": [
       "<Axes: ylabel='Frequency'>"
      ]
     },
     "execution_count": 9,
     "metadata": {},
     "output_type": "execute_result"
    },
    {
     "data": {
      "image/png": "[encoded data removed]",
      "text/plain": [
       "<Figure size 640x480 with 1 Axes>"
      ]
     },
     "metadata": {},
     "output_type": "display_data"
    }
   ],
   "source": [
    "titanic_dataset[\"Age\"].plot.hist()\n"
   ]
  },
  {
   "cell_type": "code",
   "execution_count": 10,
   "id": "59140a10",
   "metadata": {
    "execution": {
     "iopub.execute_input": "2025-02-22T20:21:14.572768Z",
     "iopub.status.busy": "2025-02-22T20:21:14.572395Z",
     "iopub.status.idle": "2025-02-22T20:21:14.578423Z",
     "shell.execute_reply": "2025-02-22T20:21:14.577466Z"
    },
    "papermill": {
     "duration": 0.021877,
     "end_time": "2025-02-22T20:21:14.579996",
     "exception": false,
     "start_time": "2025-02-22T20:21:14.558119",
     "status": "completed"
    },
    "tags": []
   },
   "outputs": [
    {
     "data": {
      "text/plain": [
       "0.4573612871503845"
      ]
     },
     "execution_count": 10,
     "metadata": {},
     "output_type": "execute_result"
    }
   ],
   "source": [
    "titanic_dataset[\"Age\"].skew()"
   ]
  },
  {
   "cell_type": "markdown",
   "id": "08c6e7b2",
   "metadata": {
    "papermill": {
     "duration": 0.013229,
     "end_time": "2025-02-22T20:21:14.606840",
     "exception": false,
     "start_time": "2025-02-22T20:21:14.593611",
     "status": "completed"
    },
    "tags": []
   },
   "source": [
    "Interpretation:\n",
    "* Since the value is greater than 0, it indicates that the dataset has a longer\n",
    "  tail on the right (higher ages).\n",
    "* However, 0.457 is close to 0, meaning the skewness is not very strong—it's       only moderately right-skewed.\n",
    "* This suggests that there were more younger passengers, but a few older           passengers (higher ages) caused a slight rightward tail."
   ]
  },
  {
   "cell_type": "code",
   "execution_count": 11,
   "id": "073cbb13",
   "metadata": {
    "execution": {
     "iopub.execute_input": "2025-02-22T20:21:14.635514Z",
     "iopub.status.busy": "2025-02-22T20:21:14.635100Z",
     "iopub.status.idle": "2025-02-22T20:21:14.653345Z",
     "shell.execute_reply": "2025-02-22T20:21:14.652351Z"
    },
    "papermill": {
     "duration": 0.034669,
     "end_time": "2025-02-22T20:21:14.654920",
     "exception": false,
     "start_time": "2025-02-22T20:21:14.620251",
     "status": "completed"
    },
    "tags": []
   },
   "outputs": [
    {
     "data": {
      "text/html": [
       "<div>\n",
       "<style scoped>\n",
       "    .dataframe tbody tr th:only-of-type {\n",
       "        vertical-align: middle;\n",
       "    }\n",
       "\n",
       "    .dataframe tbody tr th {\n",
       "        vertical-align: top;\n",
       "    }\n",
       "\n",
       "    .dataframe thead th {\n",
       "        text-align: right;\n",
       "    }\n",
       "</style>\n",
       "<table border=\"1\" class=\"dataframe\">\n",
       "  <thead>\n",
       "    <tr style=\"text-align: right;\">\n",
       "      <th></th>\n",
       "      <th>PassengerId</th>\n",
       "      <th>Survived</th>\n",
       "      <th>Pclass</th>\n",
       "      <th>Name</th>\n",
       "      <th>Sex</th>\n",
       "      <th>Age</th>\n",
       "      <th>SibSp</th>\n",
       "      <th>Parch</th>\n",
       "      <th>Ticket</th>\n",
       "      <th>Fare</th>\n",
       "      <th>Cabin</th>\n",
       "      <th>Embarked</th>\n",
       "    </tr>\n",
       "  </thead>\n",
       "  <tbody>\n",
       "    <tr>\n",
       "      <th>0</th>\n",
       "      <td>False</td>\n",
       "      <td>False</td>\n",
       "      <td>False</td>\n",
       "      <td>False</td>\n",
       "      <td>False</td>\n",
       "      <td>False</td>\n",
       "      <td>False</td>\n",
       "      <td>False</td>\n",
       "      <td>False</td>\n",
       "      <td>False</td>\n",
       "      <td>True</td>\n",
       "      <td>False</td>\n",
       "    </tr>\n",
       "    <tr>\n",
       "      <th>1</th>\n",
       "      <td>False</td>\n",
       "      <td>False</td>\n",
       "      <td>False</td>\n",
       "      <td>False</td>\n",
       "      <td>False</td>\n",
       "      <td>False</td>\n",
       "      <td>False</td>\n",
       "      <td>False</td>\n",
       "      <td>False</td>\n",
       "      <td>False</td>\n",
       "      <td>True</td>\n",
       "      <td>False</td>\n",
       "    </tr>\n",
       "    <tr>\n",
       "      <th>2</th>\n",
       "      <td>False</td>\n",
       "      <td>False</td>\n",
       "      <td>False</td>\n",
       "      <td>False</td>\n",
       "      <td>False</td>\n",
       "      <td>False</td>\n",
       "      <td>False</td>\n",
       "      <td>False</td>\n",
       "      <td>False</td>\n",
       "      <td>False</td>\n",
       "      <td>True</td>\n",
       "      <td>False</td>\n",
       "    </tr>\n",
       "    <tr>\n",
       "      <th>3</th>\n",
       "      <td>False</td>\n",
       "      <td>False</td>\n",
       "      <td>False</td>\n",
       "      <td>False</td>\n",
       "      <td>False</td>\n",
       "      <td>False</td>\n",
       "      <td>False</td>\n",
       "      <td>False</td>\n",
       "      <td>False</td>\n",
       "      <td>False</td>\n",
       "      <td>True</td>\n",
       "      <td>False</td>\n",
       "    </tr>\n",
       "    <tr>\n",
       "      <th>4</th>\n",
       "      <td>False</td>\n",
       "      <td>False</td>\n",
       "      <td>False</td>\n",
       "      <td>False</td>\n",
       "      <td>False</td>\n",
       "      <td>False</td>\n",
       "      <td>False</td>\n",
       "      <td>False</td>\n",
       "      <td>False</td>\n",
       "      <td>False</td>\n",
       "      <td>True</td>\n",
       "      <td>False</td>\n",
       "    </tr>\n",
       "    <tr>\n",
       "      <th>...</th>\n",
       "      <td>...</td>\n",
       "      <td>...</td>\n",
       "      <td>...</td>\n",
       "      <td>...</td>\n",
       "      <td>...</td>\n",
       "      <td>...</td>\n",
       "      <td>...</td>\n",
       "      <td>...</td>\n",
       "      <td>...</td>\n",
       "      <td>...</td>\n",
       "      <td>...</td>\n",
       "      <td>...</td>\n",
       "    </tr>\n",
       "    <tr>\n",
       "      <th>413</th>\n",
       "      <td>False</td>\n",
       "      <td>False</td>\n",
       "      <td>False</td>\n",
       "      <td>False</td>\n",
       "      <td>False</td>\n",
       "      <td>True</td>\n",
       "      <td>False</td>\n",
       "      <td>False</td>\n",
       "      <td>False</td>\n",
       "      <td>False</td>\n",
       "      <td>True</td>\n",
       "      <td>False</td>\n",
       "    </tr>\n",
       "    <tr>\n",
       "      <th>414</th>\n",
       "      <td>False</td>\n",
       "      <td>False</td>\n",
       "      <td>False</td>\n",
       "      <td>False</td>\n",
       "      <td>False</td>\n",
       "      <td>False</td>\n",
       "      <td>False</td>\n",
       "      <td>False</td>\n",
       "      <td>False</td>\n",
       "      <td>False</td>\n",
       "      <td>False</td>\n",
       "      <td>False</td>\n",
       "    </tr>\n",
       "    <tr>\n",
       "      <th>415</th>\n",
       "      <td>False</td>\n",
       "      <td>False</td>\n",
       "      <td>False</td>\n",
       "      <td>False</td>\n",
       "      <td>False</td>\n",
       "      <td>False</td>\n",
       "      <td>False</td>\n",
       "      <td>False</td>\n",
       "      <td>False</td>\n",
       "      <td>False</td>\n",
       "      <td>True</td>\n",
       "      <td>False</td>\n",
       "    </tr>\n",
       "    <tr>\n",
       "      <th>416</th>\n",
       "      <td>False</td>\n",
       "      <td>False</td>\n",
       "      <td>False</td>\n",
       "      <td>False</td>\n",
       "      <td>False</td>\n",
       "      <td>True</td>\n",
       "      <td>False</td>\n",
       "      <td>False</td>\n",
       "      <td>False</td>\n",
       "      <td>False</td>\n",
       "      <td>True</td>\n",
       "      <td>False</td>\n",
       "    </tr>\n",
       "    <tr>\n",
       "      <th>417</th>\n",
       "      <td>False</td>\n",
       "      <td>False</td>\n",
       "      <td>False</td>\n",
       "      <td>False</td>\n",
       "      <td>False</td>\n",
       "      <td>True</td>\n",
       "      <td>False</td>\n",
       "      <td>False</td>\n",
       "      <td>False</td>\n",
       "      <td>False</td>\n",
       "      <td>True</td>\n",
       "      <td>False</td>\n",
       "    </tr>\n",
       "  </tbody>\n",
       "</table>\n",
       "<p>418 rows × 12 columns</p>\n",
       "</div>"
      ],
      "text/plain": [
       "     PassengerId  Survived  Pclass   Name    Sex    Age  SibSp  Parch  Ticket  \\\n",
       "0          False     False   False  False  False  False  False  False   False   \n",
       "1          False     False   False  False  False  False  False  False   False   \n",
       "2          False     False   False  False  False  False  False  False   False   \n",
       "3          False     False   False  False  False  False  False  False   False   \n",
       "4          False     False   False  False  False  False  False  False   False   \n",
       "..           ...       ...     ...    ...    ...    ...    ...    ...     ...   \n",
       "413        False     False   False  False  False   True  False  False   False   \n",
       "414        False     False   False  False  False  False  False  False   False   \n",
       "415        False     False   False  False  False  False  False  False   False   \n",
       "416        False     False   False  False  False   True  False  False   False   \n",
       "417        False     False   False  False  False   True  False  False   False   \n",
       "\n",
       "      Fare  Cabin  Embarked  \n",
       "0    False   True     False  \n",
       "1    False   True     False  \n",
       "2    False   True     False  \n",
       "3    False   True     False  \n",
       "4    False   True     False  \n",
       "..     ...    ...       ...  \n",
       "413  False   True     False  \n",
       "414  False  False     False  \n",
       "415  False   True     False  \n",
       "416  False   True     False  \n",
       "417  False   True     False  \n",
       "\n",
       "[418 rows x 12 columns]"
      ]
     },
     "execution_count": 11,
     "metadata": {},
     "output_type": "execute_result"
    }
   ],
   "source": [
    "titanic_dataset.isnull()"
   ]
  },
  {
   "cell_type": "markdown",
   "id": "f2209b04",
   "metadata": {
    "papermill": {
     "duration": 0.013882,
     "end_time": "2025-02-22T20:21:14.682792",
     "exception": false,
     "start_time": "2025-02-22T20:21:14.668910",
     "status": "completed"
    },
    "tags": []
   },
   "source": [
    "# Train data and test data "
   ]
  },
  {
   "cell_type": "markdown",
   "id": "c4b24e05",
   "metadata": {
    "papermill": {
     "duration": 0.013889,
     "end_time": "2025-02-22T20:21:14.710562",
     "exception": false,
     "start_time": "2025-02-22T20:21:14.696673",
     "status": "completed"
    },
    "tags": []
   },
   "source": [
    "* build model on train data\n",
    "* predict output on test data "
   ]
  },
  {
   "cell_type": "markdown",
   "id": "9ff1bf56",
   "metadata": {
    "papermill": {
     "duration": 0.01365,
     "end_time": "2025-02-22T20:21:14.738509",
     "exception": false,
     "start_time": "2025-02-22T20:21:14.724859",
     "status": "completed"
    },
    "tags": []
   },
   "source": [
    "* To evaluate a machine learning model's performance, we must train it on one      part of the dataset (training set) and test it on unseen data (test set). "
   ]
  },
  {
   "cell_type": "code",
   "execution_count": 12,
   "id": "a360a152",
   "metadata": {
    "execution": {
     "iopub.execute_input": "2025-02-22T20:21:14.767772Z",
     "iopub.status.busy": "2025-02-22T20:21:14.767344Z",
     "iopub.status.idle": "2025-02-22T20:21:15.030492Z",
     "shell.execute_reply": "2025-02-22T20:21:15.029637Z"
    },
    "papermill": {
     "duration": 0.279503,
     "end_time": "2025-02-22T20:21:15.032177",
     "exception": false,
     "start_time": "2025-02-22T20:21:14.752674",
     "status": "completed"
    },
    "tags": []
   },
   "outputs": [],
   "source": [
    "from sklearn.model_selection import train_test_split"
   ]
  },
  {
   "cell_type": "markdown",
   "id": "a8d16f10",
   "metadata": {
    "papermill": {
     "duration": 0.013887,
     "end_time": "2025-02-22T20:21:15.060787",
     "exception": false,
     "start_time": "2025-02-22T20:21:15.046900",
     "status": "completed"
    },
    "tags": []
   },
   "source": [
    "Training data = 70%\n",
    "Testing data  = 30%"
   ]
  },
  {
   "cell_type": "code",
   "execution_count": 13,
   "id": "af03476e",
   "metadata": {
    "execution": {
     "iopub.execute_input": "2025-02-22T20:21:15.090076Z",
     "iopub.status.busy": "2025-02-22T20:21:15.089687Z",
     "iopub.status.idle": "2025-02-22T20:21:15.101443Z",
     "shell.execute_reply": "2025-02-22T20:21:15.100312Z"
    },
    "papermill": {
     "duration": 0.028177,
     "end_time": "2025-02-22T20:21:15.103022",
     "exception": false,
     "start_time": "2025-02-22T20:21:15.074845",
     "status": "completed"
    },
    "tags": []
   },
   "outputs": [],
   "source": [
    "x=titanic_dataset.drop(\"Survived\" ,axis=1)\n",
    "y=titanic_dataset[\"Survived\"]\n",
    "x_train, x_test, y_train, y_test = train_test_split(x, y, test_size=0.3, random_state=1)\n"
   ]
  },
  {
   "cell_type": "code",
   "execution_count": 14,
   "id": "d98ccfb4",
   "metadata": {
    "execution": {
     "iopub.execute_input": "2025-02-22T20:21:15.132497Z",
     "iopub.status.busy": "2025-02-22T20:21:15.132084Z",
     "iopub.status.idle": "2025-02-22T20:21:15.225086Z",
     "shell.execute_reply": "2025-02-22T20:21:15.224030Z"
    },
    "papermill": {
     "duration": 0.109831,
     "end_time": "2025-02-22T20:21:15.227102",
     "exception": false,
     "start_time": "2025-02-22T20:21:15.117271",
     "status": "completed"
    },
    "tags": []
   },
   "outputs": [],
   "source": [
    "from sklearn.linear_model import LogisticRegression\n",
    "model=LogisticRegression()\n"
   ]
  },
  {
   "cell_type": "code",
   "execution_count": 15,
   "id": "54a17302",
   "metadata": {
    "execution": {
     "iopub.execute_input": "2025-02-22T20:21:15.257885Z",
     "iopub.status.busy": "2025-02-22T20:21:15.257430Z",
     "iopub.status.idle": "2025-02-22T20:21:15.425336Z",
     "shell.execute_reply": "2025-02-22T20:21:15.423957Z"
    },
    "papermill": {
     "duration": 0.184908,
     "end_time": "2025-02-22T20:21:15.426912",
     "exception": true,
     "start_time": "2025-02-22T20:21:15.242004",
     "status": "failed"
    },
    "tags": []
   },
   "outputs": [
    {
     "ename": "NameError",
     "evalue": "name 'X_train' is not defined",
     "output_type": "error",
     "traceback": [
      "\u001b[0;31m---------------------------------------------------------------------------\u001b[0m",
      "\u001b[0;31mNameError\u001b[0m                                 Traceback (most recent call last)",
      "\u001b[0;32m<ipython-input-15-d72a107938b9>\u001b[0m in \u001b[0;36m<cell line: 1>\u001b[0;34m()\u001b[0m\n\u001b[0;32m----> 1\u001b[0;31m \u001b[0mprint\u001b[0m\u001b[0;34m(\u001b[0m\u001b[0mX_train\u001b[0m\u001b[0;34m.\u001b[0m\u001b[0mdtypes\u001b[0m\u001b[0;34m)\u001b[0m\u001b[0;34m\u001b[0m\u001b[0;34m\u001b[0m\u001b[0m\n\u001b[0m",
      "\u001b[0;31mNameError\u001b[0m: name 'X_train' is not defined"
     ]
    }
   ],
   "source": [
    "print(X_train.dtypes)"
   ]
  },
  {
   "cell_type": "code",
   "execution_count": null,
   "id": "262117ea",
   "metadata": {
    "execution": {
     "iopub.execute_input": "2025-02-22T18:58:03.669000Z",
     "iopub.status.busy": "2025-02-22T18:58:03.668545Z",
     "iopub.status.idle": "2025-02-22T18:58:03.677411Z",
     "shell.execute_reply": "2025-02-22T18:58:03.676014Z",
     "shell.execute_reply.started": "2025-02-22T18:58:03.668967Z"
    },
    "papermill": {
     "duration": null,
     "end_time": null,
     "exception": null,
     "start_time": null,
     "status": "pending"
    },
    "tags": []
   },
   "outputs": [],
   "source": [
    "import numpy as np\n",
    "\n",
    "# Find columns that are still object type\n",
    "non_numeric_cols = X_train.select_dtypes(include=['object']).columns\n",
    "print(\"Non-numeric columns:\", non_numeric_cols)\n",
    "\n",
    "# Check if there are any unexpected string values\n",
    "for col in non_numeric_cols:\n",
    "    print(f\"Unique values in {col}: {X_train[col].unique()}\")\n"
   ]
  },
  {
   "cell_type": "code",
   "execution_count": null,
   "id": "bc82fa7d",
   "metadata": {
    "execution": {
     "iopub.execute_input": "2025-02-22T18:58:47.790422Z",
     "iopub.status.busy": "2025-02-22T18:58:47.789989Z",
     "iopub.status.idle": "2025-02-22T18:58:47.805432Z",
     "shell.execute_reply": "2025-02-22T18:58:47.803502Z",
     "shell.execute_reply.started": "2025-02-22T18:58:47.790391Z"
    },
    "papermill": {
     "duration": null,
     "end_time": null,
     "exception": null,
     "start_time": null,
     "status": "pending"
    },
    "tags": []
   },
   "outputs": [],
   "source": [
    "print(X_train.isnull().sum().sum())  # Total missing values\n",
    "print(X_test.isnull().sum().sum())  # Total missing values\n"
   ]
  },
  {
   "cell_type": "code",
   "execution_count": null,
   "id": "df7ce024",
   "metadata": {
    "execution": {
     "iopub.execute_input": "2025-02-22T18:59:15.852242Z",
     "iopub.status.busy": "2025-02-22T18:59:15.851614Z",
     "iopub.status.idle": "2025-02-22T18:59:15.859784Z",
     "shell.execute_reply": "2025-02-22T18:59:15.858494Z",
     "shell.execute_reply.started": "2025-02-22T18:59:15.852193Z"
    },
    "papermill": {
     "duration": null,
     "end_time": null,
     "exception": null,
     "start_time": null,
     "status": "pending"
    },
    "tags": []
   },
   "outputs": [],
   "source": [
    "X_train = X_train.fillna(0)\n",
    "X_test = X_test.fillna(0)\n"
   ]
  },
  {
   "cell_type": "code",
   "execution_count": null,
   "id": "bfd56e50",
   "metadata": {
    "execution": {
     "iopub.execute_input": "2025-02-22T18:59:47.964444Z",
     "iopub.status.busy": "2025-02-22T18:59:47.964090Z",
     "iopub.status.idle": "2025-02-22T18:59:47.983732Z",
     "shell.execute_reply": "2025-02-22T18:59:47.981756Z",
     "shell.execute_reply.started": "2025-02-22T18:59:47.964419Z"
    },
    "papermill": {
     "duration": null,
     "end_time": null,
     "exception": null,
     "start_time": null,
     "status": "pending"
    },
    "tags": []
   },
   "outputs": [],
   "source": [
    "print(X_train.head())\n",
    "print(X_train.dtypes)"
   ]
  },
  {
   "cell_type": "code",
   "execution_count": null,
   "id": "4c178538",
   "metadata": {
    "execution": {
     "iopub.execute_input": "2025-02-22T19:00:36.480117Z",
     "iopub.status.busy": "2025-02-22T19:00:36.479634Z",
     "iopub.status.idle": "2025-02-22T19:00:36.487975Z",
     "shell.execute_reply": "2025-02-22T19:00:36.486199Z",
     "shell.execute_reply.started": "2025-02-22T19:00:36.480083Z"
    },
    "papermill": {
     "duration": null,
     "end_time": null,
     "exception": null,
     "start_time": null,
     "status": "pending"
    },
    "tags": []
   },
   "outputs": [],
   "source": [
    "print(X_train.select_dtypes(include=['object']).columns)\n"
   ]
  },
  {
   "cell_type": "code",
   "execution_count": null,
   "id": "c5e9c974",
   "metadata": {
    "execution": {
     "iopub.execute_input": "2025-02-22T19:01:36.586675Z",
     "iopub.status.busy": "2025-02-22T19:01:36.586326Z",
     "iopub.status.idle": "2025-02-22T19:01:36.823681Z",
     "shell.execute_reply": "2025-02-22T19:01:36.822235Z",
     "shell.execute_reply.started": "2025-02-22T19:01:36.586651Z"
    },
    "papermill": {
     "duration": null,
     "end_time": null,
     "exception": null,
     "start_time": null,
     "status": "pending"
    },
    "tags": []
   },
   "outputs": [],
   "source": [
    "print(X_train.applymap(lambda x: isinstance(x, str)).sum())\n",
    "X_train = X_train.apply(pd.to_numeric, errors='coerce')\n",
    "X_test = X_test.apply(pd.to_numeric, errors='coerce')\n"
   ]
  },
  {
   "cell_type": "code",
   "execution_count": null,
   "id": "cca76057",
   "metadata": {
    "execution": {
     "iopub.execute_input": "2025-02-22T19:02:20.300063Z",
     "iopub.status.busy": "2025-02-22T19:02:20.299631Z",
     "iopub.status.idle": "2025-02-22T19:02:20.540766Z",
     "shell.execute_reply": "2025-02-22T19:02:20.539209Z",
     "shell.execute_reply.started": "2025-02-22T19:02:20.300031Z"
    },
    "papermill": {
     "duration": null,
     "end_time": null,
     "exception": null,
     "start_time": null,
     "status": "pending"
    },
    "tags": []
   },
   "outputs": [],
   "source": [
    "print(X_train.isnull().sum().sum())\n",
    "X_train = X_train.fillna(X_train.mean())\n",
    "X_test = X_test.fillna(X_test.mean())\n"
   ]
  },
  {
   "cell_type": "code",
   "execution_count": null,
   "id": "9763947f",
   "metadata": {
    "execution": {
     "iopub.execute_input": "2025-02-22T19:02:34.073474Z",
     "iopub.status.busy": "2025-02-22T19:02:34.072951Z",
     "iopub.status.idle": "2025-02-22T19:02:34.096739Z",
     "shell.execute_reply": "2025-02-22T19:02:34.095044Z",
     "shell.execute_reply.started": "2025-02-22T19:02:34.073436Z"
    },
    "papermill": {
     "duration": null,
     "end_time": null,
     "exception": null,
     "start_time": null,
     "status": "pending"
    },
    "tags": []
   },
   "outputs": [],
   "source": [
    "X_train = X_train.reset_index(drop=True)\n",
    "y_train = y_train.reset_index(drop=True)\n"
   ]
  },
  {
   "cell_type": "code",
   "execution_count": null,
   "id": "e4beb25c",
   "metadata": {
    "execution": {
     "iopub.execute_input": "2025-02-22T19:02:49.188620Z",
     "iopub.status.busy": "2025-02-22T19:02:49.188217Z",
     "iopub.status.idle": "2025-02-22T19:02:49.272786Z",
     "shell.execute_reply": "2025-02-22T19:02:49.271455Z",
     "shell.execute_reply.started": "2025-02-22T19:02:49.188592Z"
    },
    "papermill": {
     "duration": null,
     "end_time": null,
     "exception": null,
     "start_time": null,
     "status": "pending"
    },
    "tags": []
   },
   "outputs": [],
   "source": [
    "model.fit(X_train, y_train)\n"
   ]
  },
  {
   "cell_type": "markdown",
   "id": "202056e2",
   "metadata": {
    "papermill": {
     "duration": null,
     "end_time": null,
     "exception": null,
     "start_time": null,
     "status": "pending"
    },
    "tags": []
   },
   "source": [
    "This means the model couldn't find the optimal solution in the given number of iterations.So we are increasing iteration"
   ]
  },
  {
   "cell_type": "code",
   "execution_count": null,
   "id": "cd2f6100",
   "metadata": {
    "execution": {
     "iopub.execute_input": "2025-02-22T19:03:53.082792Z",
     "iopub.status.busy": "2025-02-22T19:03:53.082378Z",
     "iopub.status.idle": "2025-02-22T19:03:53.485791Z",
     "shell.execute_reply": "2025-02-22T19:03:53.484345Z",
     "shell.execute_reply.started": "2025-02-22T19:03:53.082758Z"
    },
    "papermill": {
     "duration": null,
     "end_time": null,
     "exception": null,
     "start_time": null,
     "status": "pending"
    },
    "tags": []
   },
   "outputs": [],
   "source": [
    "from sklearn.linear_model import LogisticRegression\n",
    "\n",
    "model = LogisticRegression(max_iter=1000)  # Increase to 1000 or more\n",
    "model.fit(X_train, y_train)\n"
   ]
  },
  {
   "cell_type": "code",
   "execution_count": null,
   "id": "cc89fce1",
   "metadata": {
    "execution": {
     "iopub.execute_input": "2025-02-22T19:11:11.695571Z",
     "iopub.status.busy": "2025-02-22T19:11:11.695125Z",
     "iopub.status.idle": "2025-02-22T19:11:11.736304Z",
     "shell.execute_reply": "2025-02-22T19:11:11.734472Z",
     "shell.execute_reply.started": "2025-02-22T19:11:11.695539Z"
    },
    "papermill": {
     "duration": null,
     "end_time": null,
     "exception": null,
     "start_time": null,
     "status": "pending"
    },
    "tags": []
   },
   "outputs": [],
   "source": [
    "predictions=model.predict(x_train)\n"
   ]
  },
  {
   "cell_type": "code",
   "execution_count": null,
   "id": "43b6cee9",
   "metadata": {
    "execution": {
     "iopub.execute_input": "2025-02-22T19:12:51.882883Z",
     "iopub.status.busy": "2025-02-22T19:12:51.882460Z",
     "iopub.status.idle": "2025-02-22T19:12:51.895239Z",
     "shell.execute_reply": "2025-02-22T19:12:51.893671Z",
     "shell.execute_reply.started": "2025-02-22T19:12:51.882855Z"
    },
    "papermill": {
     "duration": null,
     "end_time": null,
     "exception": null,
     "start_time": null,
     "status": "pending"
    },
    "tags": []
   },
   "outputs": [],
   "source": [
    "X_train = pd.get_dummies(X_train, drop_first=True)\n",
    "X_test = pd.get_dummies(X_test, drop_first=True)\n",
    "# Align columns so both train and test have the same features\n",
    "X_test = X_test.reindex(columns=X_train.columns, fill_value=0)\n"
   ]
  },
  {
   "cell_type": "code",
   "execution_count": null,
   "id": "da7add14",
   "metadata": {
    "execution": {
     "iopub.execute_input": "2025-02-22T19:14:01.381736Z",
     "iopub.status.busy": "2025-02-22T19:14:01.381349Z",
     "iopub.status.idle": "2025-02-22T19:14:01.400678Z",
     "shell.execute_reply": "2025-02-22T19:14:01.399490Z",
     "shell.execute_reply.started": "2025-02-22T19:14:01.381709Z"
    },
    "papermill": {
     "duration": null,
     "end_time": null,
     "exception": null,
     "start_time": null,
     "status": "pending"
    },
    "tags": []
   },
   "outputs": [],
   "source": [
    "# Convert categorical variables into one-hot encoding\n",
    "X_test = pd.get_dummies(X_test, drop_first=True)\n",
    "\n",
    "# Align test set columns with train set columns\n",
    "X_test = X_test.reindex(columns=X_train.columns, fill_value=0)\n",
    "\n",
    "# Now make predictions\n",
    "y_pred = model.predict(X_test)\n"
   ]
  },
  {
   "cell_type": "code",
   "execution_count": null,
   "id": "c30c55dc",
   "metadata": {
    "execution": {
     "iopub.execute_input": "2025-02-22T19:14:28.799487Z",
     "iopub.status.busy": "2025-02-22T19:14:28.799139Z",
     "iopub.status.idle": "2025-02-22T19:14:28.824816Z",
     "shell.execute_reply": "2025-02-22T19:14:28.823024Z",
     "shell.execute_reply.started": "2025-02-22T19:14:28.799459Z"
    },
    "papermill": {
     "duration": null,
     "end_time": null,
     "exception": null,
     "start_time": null,
     "status": "pending"
    },
    "tags": []
   },
   "outputs": [],
   "source": [
    "predictions=model.predict(x_test)"
   ]
  },
  {
   "cell_type": "code",
   "execution_count": null,
   "id": "515fa165",
   "metadata": {
    "execution": {
     "iopub.execute_input": "2025-02-22T19:15:47.373428Z",
     "iopub.status.busy": "2025-02-22T19:15:47.373096Z",
     "iopub.status.idle": "2025-02-22T19:15:47.380697Z",
     "shell.execute_reply": "2025-02-22T19:15:47.379478Z",
     "shell.execute_reply.started": "2025-02-22T19:15:47.373404Z"
    },
    "papermill": {
     "duration": null,
     "end_time": null,
     "exception": null,
     "start_time": null,
     "status": "pending"
    },
    "tags": []
   },
   "outputs": [],
   "source": [
    "X_test = pd.get_dummies(X_test, drop_first=True)\n"
   ]
  },
  {
   "cell_type": "code",
   "execution_count": null,
   "id": "a8919935",
   "metadata": {
    "execution": {
     "iopub.execute_input": "2025-02-22T19:15:58.545168Z",
     "iopub.status.busy": "2025-02-22T19:15:58.544743Z",
     "iopub.status.idle": "2025-02-22T19:15:58.550992Z",
     "shell.execute_reply": "2025-02-22T19:15:58.549325Z",
     "shell.execute_reply.started": "2025-02-22T19:15:58.545138Z"
    },
    "papermill": {
     "duration": null,
     "end_time": null,
     "exception": null,
     "start_time": null,
     "status": "pending"
    },
    "tags": []
   },
   "outputs": [],
   "source": [
    "X_test = X_test.reindex(columns=X_train.columns, fill_value=0)\n"
   ]
  },
  {
   "cell_type": "code",
   "execution_count": null,
   "id": "588c7228",
   "metadata": {
    "execution": {
     "iopub.execute_input": "2025-02-22T19:16:08.142942Z",
     "iopub.status.busy": "2025-02-22T19:16:08.142521Z",
     "iopub.status.idle": "2025-02-22T19:16:08.160494Z",
     "shell.execute_reply": "2025-02-22T19:16:08.158994Z",
     "shell.execute_reply.started": "2025-02-22T19:16:08.142914Z"
    },
    "papermill": {
     "duration": null,
     "end_time": null,
     "exception": null,
     "start_time": null,
     "status": "pending"
    },
    "tags": []
   },
   "outputs": [],
   "source": [
    "# Apply one-hot encoding to X_test\n",
    "X_test = pd.get_dummies(X_test, drop_first=True)\n",
    "\n",
    "# Align test set columns with train set columns\n",
    "X_test = X_test.reindex(columns=X_train.columns, fill_value=0)\n",
    "\n",
    "# Now make predictions\n",
    "predictions = model.predict(X_test)\n"
   ]
  },
  {
   "cell_type": "code",
   "execution_count": null,
   "id": "a380e428",
   "metadata": {
    "papermill": {
     "duration": null,
     "end_time": null,
     "exception": null,
     "start_time": null,
     "status": "pending"
    },
    "tags": []
   },
   "outputs": [],
   "source": [
    "print(\"Columns in X_train but not in X_test:\", set(X_train.columns) - set(X_test.columns))\n",
    "print(\"Columns in X_test but not in X_train:\", set(X_test.columns) - set(X_train.columns))\n"
   ]
  },
  {
   "cell_type": "code",
   "execution_count": null,
   "id": "b27448d0",
   "metadata": {
    "execution": {
     "iopub.execute_input": "2025-02-22T19:17:37.092614Z",
     "iopub.status.busy": "2025-02-22T19:17:37.092215Z",
     "iopub.status.idle": "2025-02-22T19:17:37.100055Z",
     "shell.execute_reply": "2025-02-22T19:17:37.098324Z",
     "shell.execute_reply.started": "2025-02-22T19:17:37.092586Z"
    },
    "papermill": {
     "duration": null,
     "end_time": null,
     "exception": null,
     "start_time": null,
     "status": "pending"
    },
    "tags": []
   },
   "outputs": [],
   "source": [
    "print(\"X_train shape:\", X_train.shape)\n",
    "print(\"X_test shape:\", X_test.shape)\n"
   ]
  },
  {
   "cell_type": "code",
   "execution_count": null,
   "id": "d9309863",
   "metadata": {
    "execution": {
     "iopub.execute_input": "2025-02-22T19:18:30.985775Z",
     "iopub.status.busy": "2025-02-22T19:18:30.985318Z",
     "iopub.status.idle": "2025-02-22T19:18:30.991565Z",
     "shell.execute_reply": "2025-02-22T19:18:30.990348Z",
     "shell.execute_reply.started": "2025-02-22T19:18:30.985737Z"
    },
    "papermill": {
     "duration": null,
     "end_time": null,
     "exception": null,
     "start_time": null,
     "status": "pending"
    },
    "tags": []
   },
   "outputs": [],
   "source": [
    "# Check if column names are identical in order\n",
    "print((X_train.columns == X_test.columns).all())  \n"
   ]
  },
  {
   "cell_type": "code",
   "execution_count": null,
   "id": "a1ab595c",
   "metadata": {
    "execution": {
     "iopub.execute_input": "2025-02-22T19:19:10.512111Z",
     "iopub.status.busy": "2025-02-22T19:19:10.511640Z",
     "iopub.status.idle": "2025-02-22T19:19:10.519131Z",
     "shell.execute_reply": "2025-02-22T19:19:10.517447Z",
     "shell.execute_reply.started": "2025-02-22T19:19:10.512074Z"
    },
    "papermill": {
     "duration": null,
     "end_time": null,
     "exception": null,
     "start_time": null,
     "status": "pending"
    },
    "tags": []
   },
   "outputs": [],
   "source": [
    "print(type(X_test))\n"
   ]
  },
  {
   "cell_type": "code",
   "execution_count": null,
   "id": "535428c4",
   "metadata": {
    "execution": {
     "iopub.execute_input": "2025-02-22T19:19:38.122342Z",
     "iopub.status.busy": "2025-02-22T19:19:38.121920Z",
     "iopub.status.idle": "2025-02-22T19:19:38.131260Z",
     "shell.execute_reply": "2025-02-22T19:19:38.129740Z",
     "shell.execute_reply.started": "2025-02-22T19:19:38.122309Z"
    },
    "papermill": {
     "duration": null,
     "end_time": null,
     "exception": null,
     "start_time": null,
     "status": "pending"
    },
    "tags": []
   },
   "outputs": [],
   "source": [
    "print(model.feature_names_in_)\n",
    "print(X_train.columns)\n"
   ]
  },
  {
   "cell_type": "code",
   "execution_count": null,
   "id": "dca28a90",
   "metadata": {
    "execution": {
     "iopub.execute_input": "2025-02-22T19:20:57.423949Z",
     "iopub.status.busy": "2025-02-22T19:20:57.423482Z",
     "iopub.status.idle": "2025-02-22T19:20:57.794624Z",
     "shell.execute_reply": "2025-02-22T19:20:57.793409Z",
     "shell.execute_reply.started": "2025-02-22T19:20:57.423907Z"
    },
    "papermill": {
     "duration": null,
     "end_time": null,
     "exception": null,
     "start_time": null,
     "status": "pending"
    },
    "tags": []
   },
   "outputs": [],
   "source": [
    "model.fit(X_train, y_train)\n",
    "predictions = model.predict(X_test)\n"
   ]
  },
  {
   "cell_type": "code",
   "execution_count": null,
   "id": "2679076e",
   "metadata": {
    "execution": {
     "iopub.execute_input": "2025-02-22T19:21:09.160620Z",
     "iopub.status.busy": "2025-02-22T19:21:09.160211Z",
     "iopub.status.idle": "2025-02-22T19:21:09.167920Z",
     "shell.execute_reply": "2025-02-22T19:21:09.166395Z",
     "shell.execute_reply.started": "2025-02-22T19:21:09.160589Z"
    },
    "papermill": {
     "duration": null,
     "end_time": null,
     "exception": null,
     "start_time": null,
     "status": "pending"
    },
    "tags": []
   },
   "outputs": [],
   "source": [
    "X_train.columns = X_train.columns.str.strip()\n",
    "X_test.columns = X_test.columns.str.strip()\n"
   ]
  },
  {
   "cell_type": "code",
   "execution_count": null,
   "id": "be6a382c",
   "metadata": {
    "execution": {
     "iopub.execute_input": "2025-02-22T19:21:19.587917Z",
     "iopub.status.busy": "2025-02-22T19:21:19.587516Z",
     "iopub.status.idle": "2025-02-22T19:21:19.595296Z",
     "shell.execute_reply": "2025-02-22T19:21:19.593650Z",
     "shell.execute_reply.started": "2025-02-22T19:21:19.587887Z"
    },
    "papermill": {
     "duration": null,
     "end_time": null,
     "exception": null,
     "start_time": null,
     "status": "pending"
    },
    "tags": []
   },
   "outputs": [],
   "source": [
    "print(X_train.columns.duplicated().sum())  \n",
    "print(X_test.columns.duplicated().sum())  \n"
   ]
  },
  {
   "cell_type": "code",
   "execution_count": null,
   "id": "ebb0aecb",
   "metadata": {
    "execution": {
     "iopub.execute_input": "2025-02-22T19:21:32.938370Z",
     "iopub.status.busy": "2025-02-22T19:21:32.937906Z",
     "iopub.status.idle": "2025-02-22T19:21:32.961431Z",
     "shell.execute_reply": "2025-02-22T19:21:32.959389Z",
     "shell.execute_reply.started": "2025-02-22T19:21:32.938337Z"
    },
    "papermill": {
     "duration": null,
     "end_time": null,
     "exception": null,
     "start_time": null,
     "status": "pending"
    },
    "tags": []
   },
   "outputs": [],
   "source": [
    "predictions = model.predict(X_test)"
   ]
  },
  {
   "cell_type": "code",
   "execution_count": null,
   "id": "a21beeb2",
   "metadata": {
    "execution": {
     "iopub.execute_input": "2025-02-22T19:21:50.948900Z",
     "iopub.status.busy": "2025-02-22T19:21:50.948487Z",
     "iopub.status.idle": "2025-02-22T19:21:50.957459Z",
     "shell.execute_reply": "2025-02-22T19:21:50.955941Z",
     "shell.execute_reply.started": "2025-02-22T19:21:50.948869Z"
    },
    "papermill": {
     "duration": null,
     "end_time": null,
     "exception": null,
     "start_time": null,
     "status": "pending"
    },
    "tags": []
   },
   "outputs": [],
   "source": [
    "print(model.feature_names_in_)\n",
    "print(X_train.columns)\n",
    "print(X_test.columns)"
   ]
  },
  {
   "cell_type": "code",
   "execution_count": null,
   "id": "29045584",
   "metadata": {
    "execution": {
     "iopub.execute_input": "2025-02-22T19:23:11.631119Z",
     "iopub.status.busy": "2025-02-22T19:23:11.630647Z",
     "iopub.status.idle": "2025-02-22T19:23:11.647914Z",
     "shell.execute_reply": "2025-02-22T19:23:11.646387Z",
     "shell.execute_reply.started": "2025-02-22T19:23:11.631085Z"
    },
    "papermill": {
     "duration": null,
     "end_time": null,
     "exception": null,
     "start_time": null,
     "status": "pending"
    },
    "tags": []
   },
   "outputs": [],
   "source": [
    "import pandas as pd\n",
    "\n",
    "# Sample DataFrame (replace with your actual data)\n",
    "df = pd.DataFrame({'Name': [\n",
    "    'Braund, Mr. Owen Harris',\n",
    "    'Cumings, Mrs. John Bradley (Florence Briggs Thayer)',\n",
    "    'Heikkinen, Miss. Laina',\n",
    "    'Futrelle, Mrs. Jacques Heath (Lily May Peel)',\n",
    "    'Allen, Mr. William Henry'\n",
    "]})\n",
    "\n",
    "# Extract titles using regex\n",
    "df['Title'] = df['Name'].str.extract(r' ([A-Za-z]+)\\.')\n",
    "\n",
    "# Standardizing uncommon titles\n",
    "title_mapping = {\n",
    "    \"Mlle\": \"Miss\",\n",
    "    \"Ms\": \"Miss\",\n",
    "    \"Mme\": \"Mrs\",\n",
    "    \"Sir\": \"Mr\",\n",
    "    \"Lady\": \"Mrs\",\n",
    "    \"Countess\": \"Mrs\",\n",
    "    \"Dona\": \"Mrs\",\n",
    "    \"Jonkheer\": \"Mr\",\n",
    "    \"Capt\": \"Mr\",\n",
    "    \"Col\": \"Mr\",\n",
    "    \"Don\": \"Mr\",\n",
    "    \"Dr\": \"Mr\",\n",
    "    \"Major\": \"Mr\",\n",
    "    \"Rev\": \"Mr\"\n",
    "}\n",
    "df['Title'] = df['Title'].replace(title_mapping)\n",
    "\n",
    "# One-hot encoding the Title\n",
    "df = pd.get_dummies(df, columns=['Title'], drop_first=True)\n",
    "\n",
    "print(df)\n"
   ]
  },
  {
   "cell_type": "code",
   "execution_count": null,
   "id": "e6cce3c7",
   "metadata": {
    "execution": {
     "iopub.execute_input": "2025-02-22T19:23:50.437083Z",
     "iopub.status.busy": "2025-02-22T19:23:50.436507Z",
     "iopub.status.idle": "2025-02-22T19:23:50.458706Z",
     "shell.execute_reply": "2025-02-22T19:23:50.457395Z",
     "shell.execute_reply.started": "2025-02-22T19:23:50.437045Z"
    },
    "papermill": {
     "duration": null,
     "end_time": null,
     "exception": null,
     "start_time": null,
     "status": "pending"
    },
    "tags": []
   },
   "outputs": [],
   "source": [
    "import pandas as pd\n",
    "\n",
    "# Sample DataFrame (replace with your actual data)\n",
    "df = pd.DataFrame({'Name': [\n",
    "    'Braund, Mr. Owen Harris',\n",
    "    'Cumings, Mrs. John Bradley (Florence Briggs Thayer)',\n",
    "    'Heikkinen, Miss. Laina',\n",
    "    'Futrelle, Mrs. Jacques Heath (Lily May Peel)',\n",
    "    'Allen, Mr. William Henry'\n",
    "]})\n",
    "\n",
    "# Extract titles using regex\n",
    "df['Title'] = df['Name'].str.extract(r' ([A-Za-z]+)\\.')\n",
    "\n",
    "# Standardizing uncommon titles\n",
    "title_mapping = {\n",
    "    \"Mlle\": \"Miss\",\n",
    "    \"Ms\": \"Miss\",\n",
    "    \"Mme\": \"Mrs\",\n",
    "    \"Sir\": \"Mr\",\n",
    "    \"Lady\": \"Mrs\",\n",
    "    \"Countess\": \"Mrs\",\n",
    "    \"Dona\": \"Mrs\",\n",
    "    \"Jonkheer\": \"Mr\",\n",
    "    \"Capt\": \"Mr\",\n",
    "    \"Col\": \"Mr\",\n",
    "    \"Don\": \"Mr\",\n",
    "    \"Dr\": \"Mr\",\n",
    "    \"Major\": \"Mr\",\n",
    "    \"Rev\": \"Mr\"\n",
    "}\n",
    "df['Title'] = df['Title'].replace(title_mapping)\n",
    "\n",
    "# One-hot encoding the Title\n",
    "df = pd.get_dummies(df, columns=['Title'])\n",
    "\n",
    "# Convert boolean to integer (optional but recommended)\n",
    "df.iloc[:, 1:] = df.iloc[:, 1:].astype(int)\n",
    "\n",
    "print(df)\n"
   ]
  },
  {
   "cell_type": "code",
   "execution_count": null,
   "id": "85c29943",
   "metadata": {
    "execution": {
     "iopub.execute_input": "2025-02-22T19:24:20.829539Z",
     "iopub.status.busy": "2025-02-22T19:24:20.829179Z",
     "iopub.status.idle": "2025-02-22T19:24:20.846807Z",
     "shell.execute_reply": "2025-02-22T19:24:20.845318Z",
     "shell.execute_reply.started": "2025-02-22T19:24:20.829512Z"
    },
    "papermill": {
     "duration": null,
     "end_time": null,
     "exception": null,
     "start_time": null,
     "status": "pending"
    },
    "tags": []
   },
   "outputs": [],
   "source": [
    "import pandas as pd\n",
    "\n",
    "# Sample DataFrame\n",
    "df = pd.DataFrame({'Name': [\n",
    "    'Braund, Mr. Owen Harris',\n",
    "    'Cumings, Mrs. John Bradley (Florence Briggs Thayer)',\n",
    "    'Heikkinen, Miss. Laina',\n",
    "    'Futrelle, Mrs. Jacques Heath (Lily May Peel)',\n",
    "    'Allen, Mr. William Henry'\n",
    "]})\n",
    "\n",
    "# Extract title using regex\n",
    "df['Title'] = df['Name'].str.extract(r' ([A-Za-z]+)\\.')\n",
    "\n",
    "# Standardizing uncommon titles\n",
    "title_mapping = {\n",
    "    \"Mlle\": \"Miss\",\n",
    "    \"Ms\": \"Miss\",\n",
    "    \"Mme\": \"Mrs\",\n",
    "    \"Sir\": \"Mr\",\n",
    "    \"Lady\": \"Mrs\",\n",
    "    \"Countess\": \"Mrs\",\n",
    "    \"Dona\": \"Mrs\",\n",
    "    \"Jonkheer\": \"Mr\",\n",
    "    \"Capt\": \"Mr\",\n",
    "    \"Col\": \"Mr\",\n",
    "    \"Don\": \"Mr\",\n",
    "    \"Dr\": \"Mr\",\n",
    "    \"Major\": \"Mr\",\n",
    "    \"Rev\": \"Mr\"\n",
    "}\n",
    "df['Title'] = df['Title'].replace(title_mapping)\n",
    "\n",
    "# One-hot encoding the Title\n",
    "df = pd.get_dummies(df, columns=['Title'], dtype=int)  # ✅ Explicitly set dtype=int\n",
    "\n",
    "print(df)\n"
   ]
  },
  {
   "cell_type": "code",
   "execution_count": null,
   "id": "03345d96",
   "metadata": {
    "execution": {
     "iopub.execute_input": "2025-02-22T19:25:02.579859Z",
     "iopub.status.busy": "2025-02-22T19:25:02.579429Z",
     "iopub.status.idle": "2025-02-22T19:25:02.607373Z",
     "shell.execute_reply": "2025-02-22T19:25:02.605203Z",
     "shell.execute_reply.started": "2025-02-22T19:25:02.579808Z"
    },
    "papermill": {
     "duration": null,
     "end_time": null,
     "exception": null,
     "start_time": null,
     "status": "pending"
    },
    "tags": []
   },
   "outputs": [],
   "source": [
    "print(df[['Name', 'Title']])\n"
   ]
  },
  {
   "cell_type": "code",
   "execution_count": null,
   "id": "92aadb3c",
   "metadata": {
    "execution": {
     "iopub.execute_input": "2025-02-22T19:25:46.346486Z",
     "iopub.status.busy": "2025-02-22T19:25:46.346133Z",
     "iopub.status.idle": "2025-02-22T19:25:46.356926Z",
     "shell.execute_reply": "2025-02-22T19:25:46.355085Z",
     "shell.execute_reply.started": "2025-02-22T19:25:46.346460Z"
    },
    "papermill": {
     "duration": null,
     "end_time": null,
     "exception": null,
     "start_time": null,
     "status": "pending"
    },
    "tags": []
   },
   "outputs": [],
   "source": [
    "df['Title'] = df['Name'].str.extract(r' ([A-Za-z]+)\\.', expand=False)\n",
    "\n",
    "# Check if Title is extracted correctly\n",
    "print(df[['Name', 'Title']].head())\n"
   ]
  },
  {
   "cell_type": "code",
   "execution_count": null,
   "id": "50fd425e",
   "metadata": {
    "execution": {
     "iopub.execute_input": "2025-02-22T19:25:55.120996Z",
     "iopub.status.busy": "2025-02-22T19:25:55.120557Z",
     "iopub.status.idle": "2025-02-22T19:25:55.129127Z",
     "shell.execute_reply": "2025-02-22T19:25:55.127623Z",
     "shell.execute_reply.started": "2025-02-22T19:25:55.120965Z"
    },
    "papermill": {
     "duration": null,
     "end_time": null,
     "exception": null,
     "start_time": null,
     "status": "pending"
    },
    "tags": []
   },
   "outputs": [],
   "source": [
    "title_dummies = pd.get_dummies(df['Title'], prefix='Title')\n",
    "df = pd.concat([df, title_dummies], axis=1)\n"
   ]
  },
  {
   "cell_type": "code",
   "execution_count": null,
   "id": "64423c30",
   "metadata": {
    "execution": {
     "iopub.execute_input": "2025-02-22T19:26:04.311278Z",
     "iopub.status.busy": "2025-02-22T19:26:04.310898Z",
     "iopub.status.idle": "2025-02-22T19:26:04.321528Z",
     "shell.execute_reply": "2025-02-22T19:26:04.320214Z",
     "shell.execute_reply.started": "2025-02-22T19:26:04.311250Z"
    },
    "papermill": {
     "duration": null,
     "end_time": null,
     "exception": null,
     "start_time": null,
     "status": "pending"
    },
    "tags": []
   },
   "outputs": [],
   "source": [
    "print(df[['Title', 'Title_Miss', 'Title_Mr', 'Title_Mrs']].head())\n"
   ]
  },
  {
   "cell_type": "code",
   "execution_count": null,
   "id": "a74faa22",
   "metadata": {
    "execution": {
     "iopub.execute_input": "2025-02-22T19:26:31.848860Z",
     "iopub.status.busy": "2025-02-22T19:26:31.848376Z",
     "iopub.status.idle": "2025-02-22T19:26:31.856849Z",
     "shell.execute_reply": "2025-02-22T19:26:31.855217Z",
     "shell.execute_reply.started": "2025-02-22T19:26:31.848802Z"
    },
    "papermill": {
     "duration": null,
     "end_time": null,
     "exception": null,
     "start_time": null,
     "status": "pending"
    },
    "tags": []
   },
   "outputs": [],
   "source": [
    "# Drop duplicate title columns if they exist\n",
    "df = df.loc[:, ~df.columns.duplicated()]\n"
   ]
  },
  {
   "cell_type": "code",
   "execution_count": null,
   "id": "4db7b11f",
   "metadata": {
    "execution": {
     "iopub.execute_input": "2025-02-22T19:26:40.212506Z",
     "iopub.status.busy": "2025-02-22T19:26:40.212017Z",
     "iopub.status.idle": "2025-02-22T19:26:40.230948Z",
     "shell.execute_reply": "2025-02-22T19:26:40.229145Z",
     "shell.execute_reply.started": "2025-02-22T19:26:40.212460Z"
    },
    "papermill": {
     "duration": null,
     "end_time": null,
     "exception": null,
     "start_time": null,
     "status": "pending"
    },
    "tags": []
   },
   "outputs": [],
   "source": [
    "# Extract Title\n",
    "df['Title'] = df['Name'].str.extract(r' ([A-Za-z]+)\\.', expand=False)\n",
    "\n",
    "# One-hot encode Titles\n",
    "title_dummies = pd.get_dummies(df['Title'], prefix='Title', dtype=int)\n",
    "\n",
    "# Merge and avoid duplication\n",
    "df = df.drop(columns=['Title'], errors='ignore')  # Remove 'Title' if it already exists\n",
    "df = pd.concat([df, title_dummies], axis=1)\n",
    "\n",
    "# Verify the final result\n",
    "print(df.head())\n"
   ]
  },
  {
   "cell_type": "code",
   "execution_count": null,
   "id": "3abf1c0b",
   "metadata": {
    "execution": {
     "iopub.execute_input": "2025-02-22T19:27:59.553591Z",
     "iopub.status.busy": "2025-02-22T19:27:59.553208Z",
     "iopub.status.idle": "2025-02-22T19:27:59.559315Z",
     "shell.execute_reply": "2025-02-22T19:27:59.558098Z",
     "shell.execute_reply.started": "2025-02-22T19:27:59.553558Z"
    },
    "papermill": {
     "duration": null,
     "end_time": null,
     "exception": null,
     "start_time": null,
     "status": "pending"
    },
    "tags": []
   },
   "outputs": [],
   "source": [
    "# Drop existing Title-related columns if they exist\n",
    "df = df.loc[:, ~df.columns.duplicated()]\n"
   ]
  },
  {
   "cell_type": "code",
   "execution_count": null,
   "id": "c59de673",
   "metadata": {
    "execution": {
     "iopub.execute_input": "2025-02-22T19:28:09.908209Z",
     "iopub.status.busy": "2025-02-22T19:28:09.907825Z",
     "iopub.status.idle": "2025-02-22T19:28:09.921555Z",
     "shell.execute_reply": "2025-02-22T19:28:09.920330Z",
     "shell.execute_reply.started": "2025-02-22T19:28:09.908182Z"
    },
    "papermill": {
     "duration": null,
     "end_time": null,
     "exception": null,
     "start_time": null,
     "status": "pending"
    },
    "tags": []
   },
   "outputs": [],
   "source": [
    "import pandas as pd\n",
    "\n",
    "# Sample data\n",
    "data = {\n",
    "    'Name': [\n",
    "        'Braund, Mr. Owen Harris',\n",
    "        'Cumings, Mrs. John Bradley (Florence Briggs Thayer)',\n",
    "        'Heikkinen, Miss. Laina',\n",
    "        'Futrelle, Mrs. Jacques Heath (Lily May Peel)',\n",
    "        'Allen, Mr. William Henry'\n",
    "    ]\n",
    "}\n",
    "\n",
    "df = pd.DataFrame(data)\n",
    "\n",
    "# Extract Title\n",
    "df['Title'] = df['Name'].str.extract(r' ([A-Za-z]+)\\.', expand=False)\n",
    "\n",
    "# One-hot encode Titles\n",
    "title_dummies = pd.get_dummies(df['Title'], prefix='Title', dtype=int)\n",
    "\n",
    "# Drop duplicate columns before merging\n",
    "df = df.loc[:, ~df.columns.duplicated()]\n",
    "\n",
    "# Merge one-hot encoded columns\n",
    "df = pd.concat([df, title_dummies], axis=1)\n",
    "\n",
    "# Drop the original 'Title' column\n",
    "df = df.drop(columns=['Title'], errors='ignore')\n",
    "\n",
    "# Print final dataframe\n",
    "print(df)\n"
   ]
  },
  {
   "cell_type": "raw",
   "id": "5d46a098",
   "metadata": {
    "papermill": {
     "duration": null,
     "end_time": null,
     "exception": null,
     "start_time": null,
     "status": "pending"
    },
    "tags": []
   },
   "source": [
    "predictions=model.predict(x_test)"
   ]
  },
  {
   "cell_type": "code",
   "execution_count": null,
   "id": "9b4e4ef9",
   "metadata": {
    "execution": {
     "iopub.execute_input": "2025-02-22T19:30:26.036164Z",
     "iopub.status.busy": "2025-02-22T19:30:26.035760Z",
     "iopub.status.idle": "2025-02-22T19:30:26.054503Z",
     "shell.execute_reply": "2025-02-22T19:30:26.053387Z",
     "shell.execute_reply.started": "2025-02-22T19:30:26.036137Z"
    },
    "papermill": {
     "duration": null,
     "end_time": null,
     "exception": null,
     "start_time": null,
     "status": "pending"
    },
    "tags": []
   },
   "outputs": [],
   "source": [
    "from sklearn.metrics import classification_report\n",
    "classification_report(y_test,predictions)"
   ]
  },
  {
   "cell_type": "code",
   "execution_count": null,
   "id": "44d8883e",
   "metadata": {
    "execution": {
     "iopub.execute_input": "2025-02-22T20:05:32.140345Z",
     "iopub.status.busy": "2025-02-22T20:05:32.139997Z",
     "iopub.status.idle": "2025-02-22T20:05:32.150162Z",
     "shell.execute_reply": "2025-02-22T20:05:32.149076Z",
     "shell.execute_reply.started": "2025-02-22T20:05:32.140320Z"
    },
    "papermill": {
     "duration": null,
     "end_time": null,
     "exception": null,
     "start_time": null,
     "status": "pending"
    },
    "tags": []
   },
   "outputs": [],
   "source": [
    "from sklearn.metrics import confusion_matrix\n",
    "confusion_matrix(y_test,predictions)"
   ]
  },
  {
   "cell_type": "markdown",
   "id": "0303e98c",
   "metadata": {
    "papermill": {
     "duration": null,
     "end_time": null,
     "exception": null,
     "start_time": null,
     "status": "pending"
    },
    "tags": []
   },
   "source": [
    "Therefore , \n",
    "1. True Positive =80\n",
    "2. False Negative =5\n",
    "3. False Positive =33\n",
    "4. True Negative = 8"
   ]
  },
  {
   "cell_type": "markdown",
   "id": "9ae5db37",
   "metadata": {
    "papermill": {
     "duration": null,
     "end_time": null,
     "exception": null,
     "start_time": null,
     "status": "pending"
    },
    "tags": []
   },
   "source": [
    "# Accuracy  of model"
   ]
  },
  {
   "cell_type": "code",
   "execution_count": null,
   "id": "2735fa17",
   "metadata": {
    "execution": {
     "iopub.execute_input": "2025-02-22T20:10:07.944052Z",
     "iopub.status.busy": "2025-02-22T20:10:07.943596Z",
     "iopub.status.idle": "2025-02-22T20:10:07.954207Z",
     "shell.execute_reply": "2025-02-22T20:10:07.952692Z",
     "shell.execute_reply.started": "2025-02-22T20:10:07.944020Z"
    },
    "papermill": {
     "duration": null,
     "end_time": null,
     "exception": null,
     "start_time": null,
     "status": "pending"
    },
    "tags": []
   },
   "outputs": [],
   "source": [
    "from sklearn.metrics import accuracy_score\n",
    "accuracy_score(y_test,predictions)"
   ]
  }
 ],
 "metadata": {
  "kaggle": {
   "accelerator": "none",
   "dataSources": [
    {
     "datasetId": 826163,
     "sourceId": 2879186,
     "sourceType": "datasetVersion"
    }
   ],
   "dockerImageVersionId": 30918,
   "isGpuEnabled": false,
   "isInternetEnabled": true,
   "language": "python",
   "sourceType": "notebook"
  },
  "kernelspec": {
   "display_name": "Python 3",
   "language": "python",
   "name": "python3"
  },
  "language_info": {
   "codemirror_mode": {
    "name": "ipython",
    "version": 3
   },
   "file_extension": ".py",
   "mimetype": "text/x-python",
   "name": "python",
   "nbconvert_exporter": "python",
   "pygments_lexer": "ipython3",
   "version": "3.10.12"
  },
  "papermill": {
   "default_parameters": {},
   "duration": 8.012105,
   "end_time": "2025-02-22T20:21:16.160907",
   "environment_variables": {},
   "exception": true,
   "input_path": "__notebook__.ipynb",
   "output_path": "__notebook__.ipynb",
   "parameters": {},
   "start_time": "2025-02-22T20:21:08.148802",
   "version": "2.6.0"
  }
 },
 "nbformat": 4,
 "nbformat_minor": 5
}
